{
  "nbformat": 4,
  "nbformat_minor": 0,
  "metadata": {
    "colab": {
      "provenance": []
    },
    "kernelspec": {
      "name": "python3",
      "display_name": "Python 3"
    },
    "language_info": {
      "name": "python"
    }
  },
  "cells": [
    {
      "cell_type": "code",
      "execution_count": 3,
      "metadata": {
        "id": "tZ_U7G47zqVN"
      },
      "outputs": [],
      "source": [
        "from pulp import LpMaximize, LpProblem, LpVariable, lpSum\n",
        "\n",
        "# Step 1: Define the problem\n",
        "model = LpProblem(name=\"product-mix\", sense=LpMaximize)"
      ]
    },
    {
      "cell_type": "code",
      "source": [
        "# Step 2: Define decision variables\n",
        "chairs = LpVariable(name=\"Chairs\", lowBound=0, cat='Integer')\n",
        "tables = LpVariable(name=\"Tables\", lowBound=0, cat='Integer')"
      ],
      "metadata": {
        "id": "P1YKOWBU0PKz"
      },
      "execution_count": 4,
      "outputs": []
    },
    {
      "cell_type": "code",
      "source": [
        "# Step 3: Define constraints\n",
        "model += (2 * chairs + 4 * tables <= 100, \"Labor Constraint\")\n",
        "model += (3 * chairs + 4 * tables <= 120, \"Wood Constraint\")"
      ],
      "metadata": {
        "id": "qlD1R5eg0PHe"
      },
      "execution_count": 5,
      "outputs": []
    },
    {
      "cell_type": "code",
      "source": [
        "# Step 4: Define objective function (maximize profit)\n",
        "model += (200 * chairs + 300 * tables, \"Total Profit\")"
      ],
      "metadata": {
        "id": "vkGbsvok0PE5"
      },
      "execution_count": 6,
      "outputs": []
    },
    {
      "cell_type": "code",
      "source": [
        "# Step 5: Solve the model\n",
        "model.solve()"
      ],
      "metadata": {
        "colab": {
          "base_uri": "https://localhost:8080/"
        },
        "id": "Uywlux_n0PCh",
        "outputId": "f36fd255-dc56-4fbd-c7d5-35476335e88e"
      },
      "execution_count": 7,
      "outputs": [
        {
          "output_type": "execute_result",
          "data": {
            "text/plain": [
              "1"
            ]
          },
          "metadata": {},
          "execution_count": 7
        }
      ]
    },
    {
      "cell_type": "code",
      "source": [
        "# Step 6: Print the results\n",
        "print(f\"Status: {model.status}, {model.solve()}\")\n",
        "print(f\"Produce {chairs.value()} chairs\")\n",
        "print(f\"Produce {tables.value()} tables\")\n",
        "print(f\"Maximum Profit: ₹{model.objective.value()}\")"
      ],
      "metadata": {
        "colab": {
          "base_uri": "https://localhost:8080/"
        },
        "id": "eThufjss0O_3",
        "outputId": "16271033-6406-4953-ffb5-026a85dad549"
      },
      "execution_count": 8,
      "outputs": [
        {
          "output_type": "stream",
          "name": "stdout",
          "text": [
            "Status: 1, 1\n",
            "Produce 20.0 chairs\n",
            "Produce 15.0 tables\n",
            "Maximum Profit: ₹8500.0\n"
          ]
        }
      ]
    }
  ]
}