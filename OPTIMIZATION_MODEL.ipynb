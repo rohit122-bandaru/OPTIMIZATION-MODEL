{
  "nbformat": 4,
  "nbformat_minor": 0,
  "metadata": {
    "colab": {
      "provenance": []
    },
    "kernelspec": {
      "name": "python3",
      "display_name": "Python 3"
    },
    "language_info": {
      "name": "python"
    }
  },
  "cells": [
    {
      "cell_type": "code",
      "source": [
        "from pulp import LpMaximize, LpProblem, LpVariable, lpSum\n",
        "\n",
        "#  Define the problem\n",
        "model = LpProblem(name=\"product-mix\", sense=LpMaximize)"
      ],
      "metadata": {
        "id": "ahN8PGvEqoaU"
      },
      "execution_count": 45,
      "outputs": []
    },
    {
      "cell_type": "code",
      "source": [
        "#  Define decision variables\n",
        "chairs = LpVariable(name=\"Chairs\", lowBound=0, cat='Integer')\n",
        "tables = LpVariable(name=\"Tables\", lowBound=0, cat='Integer')"
      ],
      "metadata": {
        "id": "LF82KAoxt0ox"
      },
      "execution_count": 46,
      "outputs": []
    },
    {
      "cell_type": "code",
      "source": [
        "#  Define constraints\n",
        "model += (2 * chairs + 4 * tables <= 100, \"Labor Constraint\")\n",
        "model += (3 * chairs + 4 * tables <= 120, \"Wood Constraint\")"
      ],
      "metadata": {
        "id": "pnvzI6cDt0fz"
      },
      "execution_count": 47,
      "outputs": []
    },
    {
      "cell_type": "code",
      "source": [
        "#  Define objective function (maximize profit)\n",
        "model += (200 * chairs + 300 * tables, \"Total Profit\")"
      ],
      "metadata": {
        "id": "M17M2W2Zt0cN"
      },
      "execution_count": 48,
      "outputs": []
    },
    {
      "cell_type": "code",
      "source": [
        "# Step 5: Solve the model\n",
        "model.solve()"
      ],
      "metadata": {
        "colab": {
          "base_uri": "https://localhost:8080/"
        },
        "id": "9QNDvaPZt0Zy",
        "outputId": "667ad652-58aa-4df2-cbaf-916e68daa1b2"
      },
      "execution_count": 49,
      "outputs": [
        {
          "output_type": "execute_result",
          "data": {
            "text/plain": [
              "1"
            ]
          },
          "metadata": {},
          "execution_count": 49
        }
      ]
    },
    {
      "cell_type": "code",
      "source": [
        "#  Print the results\n",
        "print(f\"Status: {model.status}, {model.solve()}\")\n",
        "print(f\"Produce {chairs.value()} chairs\")\n",
        "print(f\"Produce {tables.value()} tables\")\n",
        "print(f\"Maximum Profit: ₹{model.objective.value()}\")"
      ],
      "metadata": {
        "colab": {
          "base_uri": "https://localhost:8080/"
        },
        "id": "Ips5_4Sot0Mo",
        "outputId": "3fbdc8fd-b3bb-4bff-c253-8bcc1b16e607"
      },
      "execution_count": 50,
      "outputs": [
        {
          "output_type": "stream",
          "name": "stdout",
          "text": [
            "Status: 1, 1\n",
            "Produce 20.0 chairs\n",
            "Produce 15.0 tables\n",
            "Maximum Profit: ₹8500.0\n"
          ]
        }
      ]
    }
  ]
}