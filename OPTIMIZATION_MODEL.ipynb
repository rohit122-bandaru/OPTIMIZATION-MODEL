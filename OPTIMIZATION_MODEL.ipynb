{
  "nbformat": 4,
  "nbformat_minor": 0,
  "metadata": {
    "colab": {
      "provenance": []
    },
    "kernelspec": {
      "name": "python3",
      "display_name": "Python 3"
    },
    "language_info": {
      "name": "python"
    }
  },
  "cells": [
    {
      "cell_type": "code",
      "source": [
        "from pulp import LpMaximize, LpProblem, LpVariable, lpSum"
      ],
      "metadata": {
        "id": "9zqHJL7J2MgN"
      },
      "execution_count": 9,
      "outputs": []
    },
    {
      "cell_type": "code",
      "execution_count": 10,
      "metadata": {
        "id": "tZ_U7G47zqVN"
      },
      "outputs": [],
      "source": [
        "#  Define the problem\n",
        "model = LpProblem(name=\"product-mix\", sense=LpMaximize)"
      ]
    },
    {
      "cell_type": "code",
      "source": [
        "#  Define decision variables\n",
        "chairs = LpVariable(name=\"Chairs\", lowBound=0, cat='Integer')\n",
        "tables = LpVariable(name=\"Tables\", lowBound=0, cat='Integer')"
      ],
      "metadata": {
        "id": "P1YKOWBU0PKz"
      },
      "execution_count": 11,
      "outputs": []
    },
    {
      "cell_type": "code",
      "source": [
        "# Define constraints\n",
        "model += (2 * chairs + 4 * tables <= 100, \"Labor Constraint\")\n",
        "model += (3 * chairs + 4 * tables <= 120, \"Wood Constraint\")"
      ],
      "metadata": {
        "id": "qlD1R5eg0PHe"
      },
      "execution_count": 12,
      "outputs": []
    },
    {
      "cell_type": "code",
      "source": [
        "# Define objective function (maximize profit)\n",
        "model += (200 * chairs + 300 * tables, \"Total Profit\")"
      ],
      "metadata": {
        "id": "vkGbsvok0PE5"
      },
      "execution_count": 13,
      "outputs": []
    },
    {
      "cell_type": "code",
      "source": [
        "# Solve the model\n",
        "model.solve()"
      ],
      "metadata": {
        "colab": {
          "base_uri": "https://localhost:8080/"
        },
        "id": "Uywlux_n0PCh",
        "outputId": "61d29b10-d6b3-4312-e630-bd2b0dd7603e"
      },
      "execution_count": 14,
      "outputs": [
        {
          "output_type": "execute_result",
          "data": {
            "text/plain": [
              "1"
            ]
          },
          "metadata": {},
          "execution_count": 14
        }
      ]
    },
    {
      "cell_type": "code",
      "source": [
        "#  Print the results\n",
        "print(f\"Status: {model.status}, {model.solve()}\")\n",
        "print(f\"Produce {chairs.value()} chairs\")\n",
        "print(f\"Produce {tables.value()} tables\")\n",
        "print(f\"Maximum Profit: ₹{model.objective.value()}\")"
      ],
      "metadata": {
        "colab": {
          "base_uri": "https://localhost:8080/"
        },
        "id": "eThufjss0O_3",
        "outputId": "1f4cc08b-d088-4e32-f445-85bdb2cc2dbb"
      },
      "execution_count": 15,
      "outputs": [
        {
          "output_type": "stream",
          "name": "stdout",
          "text": [
            "Status: 1, 1\n",
            "Produce 20.0 chairs\n",
            "Produce 15.0 tables\n",
            "Maximum Profit: ₹8500.0\n"
          ]
        }
      ]
    }
  ]
}